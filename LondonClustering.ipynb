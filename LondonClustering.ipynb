{
 "cells": [
  {
   "cell_type": "markdown",
   "metadata": {},
   "source": [
    "# Investigating Best Rental Location for College Student"
   ]
  },
  {
   "cell_type": "markdown",
   "metadata": {},
   "source": [
    "###  Introduction/Business Problem"
   ]
  },
  {
   "cell_type": "markdown",
   "metadata": {},
   "source": [
    "I have decided to investigate the problem of finding the best location for a college student to rent an appartment. The following investigation will be for a college student that is looking to go to Imperial College london and will investigate the following features as the criteria:\n",
    "   \n",
    "- Social Criteria:\n",
    "\n",
    "    - Crime rate (safety)\n",
    "    - Travel time to University (Public Transport)\n",
    "    - Venues:\n",
    "        - Gym\n",
    "        - Nighclubs\n",
    "        - Supermarkets\n",
    "\n",
    "- Economic Criteria:\n",
    "    - Average price of Rental \n",
    "\n",
    "Based on the venues I will cluster together a set of clusters within the city and then preform a use classification on the determined locations using the features \"average price of rental\", \"crime rate\" and \"Travel time to University (Public Transport)\" to find the best cluster / location to live in."
   ]
  },
  {
   "cell_type": "markdown",
   "metadata": {},
   "source": [
    "###  Data Collection"
   ]
  },
  {
   "cell_type": "markdown",
   "metadata": {},
   "source": [
    "The data collected will be based on the different boroughs in london which can be found on the following website: \n",
    "\n",
    "- https://en.wikipedia.org/wiki/List_of_areas_of_London\n",
    "\n",
    "This data set will be manipulated so that it can be used in conjunction with the foursquare api to find the locations of Gyms, Nightclubs and Supermarkets to determine the centroids of the clusters which will be used as the optimum location to rent and appartment. Following this the features \"average price of rental\", \"crime rate\" and \"Travel time to University (Public Transport)\" will be used to determine which cluster is the best. The data for the following can be found here:\n",
    "\n",
    "- Travel time to the University: Google Maps\n",
    "- Crime Rate: https://www.finder.com/uk/london-crime-statistics\n",
    "- Average Price of Rental: https://www.mylondon.news/news/property/london-rent-prices-cheapest-borough-17525488\n",
    "\n",
    "After finding the best cluster the results and methedology will be evaluated and the validity of the investigation provided. "
   ]
  }
 ],
 "metadata": {
  "kernelspec": {
   "display_name": "Python 3",
   "language": "python",
   "name": "python3"
  },
  "language_info": {
   "codemirror_mode": {
    "name": "ipython",
    "version": 3
   },
   "file_extension": ".py",
   "mimetype": "text/x-python",
   "name": "python",
   "nbconvert_exporter": "python",
   "pygments_lexer": "ipython3",
   "version": "3.8.3"
  }
 },
 "nbformat": 4,
 "nbformat_minor": 4
}
